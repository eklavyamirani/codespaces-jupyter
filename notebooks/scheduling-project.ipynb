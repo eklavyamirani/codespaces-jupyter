{
 "cells": [
  {
   "cell_type": "code",
   "execution_count": 51,
   "metadata": {},
   "outputs": [],
   "source": [
    "from datetime import date\n",
    "\n",
    "param_startDate = date.today()"
   ]
  },
  {
   "cell_type": "code",
   "execution_count": 52,
   "metadata": {},
   "outputs": [
    {
     "data": {
      "text/html": [
       "<div>\n",
       "<style scoped>\n",
       "    .dataframe tbody tr th:only-of-type {\n",
       "        vertical-align: middle;\n",
       "    }\n",
       "\n",
       "    .dataframe tbody tr th {\n",
       "        vertical-align: top;\n",
       "    }\n",
       "\n",
       "    .dataframe thead th {\n",
       "        text-align: right;\n",
       "    }\n",
       "</style>\n",
       "<table border=\"1\" class=\"dataframe\">\n",
       "  <thead>\n",
       "    <tr style=\"text-align: right;\">\n",
       "      <th></th>\n",
       "      <th>Task Name</th>\n",
       "      <th>Maximum Resources</th>\n",
       "      <th>Effort</th>\n",
       "      <th>Execution Order</th>\n",
       "    </tr>\n",
       "  </thead>\n",
       "  <tbody>\n",
       "    <tr>\n",
       "      <th>0</th>\n",
       "      <td>Task 1</td>\n",
       "      <td>10</td>\n",
       "      <td>14</td>\n",
       "      <td>1</td>\n",
       "    </tr>\n",
       "    <tr>\n",
       "      <th>1</th>\n",
       "      <td>Task 2</td>\n",
       "      <td>5</td>\n",
       "      <td>6</td>\n",
       "      <td>2</td>\n",
       "    </tr>\n",
       "    <tr>\n",
       "      <th>2</th>\n",
       "      <td>Task 3</td>\n",
       "      <td>8</td>\n",
       "      <td>3</td>\n",
       "      <td>2</td>\n",
       "    </tr>\n",
       "  </tbody>\n",
       "</table>\n",
       "</div>"
      ],
      "text/plain": [
       "  Task Name  Maximum Resources  Effort  Execution Order\n",
       "0    Task 1                 10      14                1\n",
       "1    Task 2                  5       6                2\n",
       "2    Task 3                  8       3                2"
      ]
     },
     "execution_count": 52,
     "metadata": {},
     "output_type": "execute_result"
    }
   ],
   "source": [
    "import pandas as pd\n",
    "\n",
    "data = {\n",
    "    \"Task Name\": [\"Task 1\", \"Task 2\", \"Task 3\"],\n",
    "    \"Maximum Resources\": [10, 5, 8],\n",
    "    \"Effort\": [14, 6, 3],\n",
    "    \"Execution Order\": [1, 2, 2]\n",
    "}\n",
    "\n",
    "df = pd.DataFrame(data)\n",
    "df\n"
   ]
  },
  {
   "cell_type": "markdown",
   "metadata": {},
   "source": [
    "### Github copilot algo"
   ]
  },
  {
   "cell_type": "code",
   "execution_count": 53,
   "metadata": {},
   "outputs": [
    {
     "data": {
      "text/html": [
       "<div>\n",
       "<style scoped>\n",
       "    .dataframe tbody tr th:only-of-type {\n",
       "        vertical-align: middle;\n",
       "    }\n",
       "\n",
       "    .dataframe tbody tr th {\n",
       "        vertical-align: top;\n",
       "    }\n",
       "\n",
       "    .dataframe thead th {\n",
       "        text-align: right;\n",
       "    }\n",
       "</style>\n",
       "<table border=\"1\" class=\"dataframe\">\n",
       "  <thead>\n",
       "    <tr style=\"text-align: right;\">\n",
       "      <th></th>\n",
       "      <th>Task Name</th>\n",
       "      <th>Maximum Resources</th>\n",
       "      <th>Effort</th>\n",
       "      <th>Execution Order</th>\n",
       "      <th>Start Date</th>\n",
       "      <th>Finish Date</th>\n",
       "    </tr>\n",
       "  </thead>\n",
       "  <tbody>\n",
       "    <tr>\n",
       "      <th>0</th>\n",
       "      <td>Task 1</td>\n",
       "      <td>10</td>\n",
       "      <td>14</td>\n",
       "      <td>1</td>\n",
       "      <td>2024-03-09</td>\n",
       "      <td>2024-03-25</td>\n",
       "    </tr>\n",
       "    <tr>\n",
       "      <th>1</th>\n",
       "      <td>Task 2</td>\n",
       "      <td>5</td>\n",
       "      <td>6</td>\n",
       "      <td>2</td>\n",
       "      <td>2024-03-26</td>\n",
       "      <td>2024-04-01</td>\n",
       "    </tr>\n",
       "    <tr>\n",
       "      <th>2</th>\n",
       "      <td>Task 3</td>\n",
       "      <td>8</td>\n",
       "      <td>3</td>\n",
       "      <td>2</td>\n",
       "      <td>2024-03-26</td>\n",
       "      <td>2024-03-29</td>\n",
       "    </tr>\n",
       "  </tbody>\n",
       "</table>\n",
       "</div>"
      ],
      "text/plain": [
       "  Task Name  Maximum Resources  Effort  Execution Order  Start Date  \\\n",
       "0    Task 1                 10      14                1  2024-03-09   \n",
       "1    Task 2                  5       6                2  2024-03-26   \n",
       "2    Task 3                  8       3                2  2024-03-26   \n",
       "\n",
       "  Finish Date  \n",
       "0  2024-03-25  \n",
       "1  2024-04-01  \n",
       "2  2024-03-29  "
      ]
     },
     "execution_count": 53,
     "metadata": {},
     "output_type": "execute_result"
    }
   ],
   "source": [
    "import pandas as pd\n",
    "from datetime import timedelta, date\n",
    "\n",
    "# Create a copy of the original dataframe\n",
    "schedule = df.copy()\n",
    "\n",
    "# Initialize the \"Start Date\" column\n",
    "schedule['Start Date'] = schedule.apply(lambda row: param_startDate if row['Execution Order'] == 1 else None, axis=1)\n",
    "\n",
    "schedule = schedule.sort_values('Execution Order')\n",
    "schedule\n",
    "\n",
    "\n",
    "# Calculate the \"Finish Date\" for each task\n",
    "for index, row in schedule.iterrows():\n",
    "    # Check if the task has dependencies\n",
    "    if row['Execution Order'] > 1:\n",
    "        # Find the maximum \"Finish Date\" of the dependent tasks\n",
    "        dependencies = schedule.loc[schedule['Execution Order'] < row['Execution Order']]\n",
    "        max_finish_date = dependencies['Finish Date'].max()\n",
    "        \n",
    "        # Calculate the \"Start Date\" based on the maximum \"Finish Date\" of dependencies\n",
    "        if pd.notnull(max_finish_date):\n",
    "            start_date = max_finish_date + timedelta(days=1)\n",
    "            \n",
    "            # Skip weekends (Saturday and Sunday)\n",
    "            while start_date.weekday() >= 5:\n",
    "                start_date += timedelta(days=1)\n",
    "            \n",
    "            schedule.at[index, 'Start Date'] = start_date\n",
    "            ##print(schedule)\n",
    "    \n",
    "    # Calculate the \"Finish Date\" based on the \"Start Date\" and \"Effort\"\n",
    "    start_date = schedule.at[index, 'Start Date']\n",
    "    effort = row['Effort']\n",
    "    finish_date = start_date + timedelta(days=effort)\n",
    "    \n",
    "    # Skip weekends (Saturday and Sunday)\n",
    "    while finish_date.weekday() >= 5:\n",
    "        finish_date += timedelta(days=1)\n",
    "    \n",
    "    schedule.at[index, 'Finish Date'] = finish_date\n",
    "\n",
    "schedule\n"
   ]
  },
  {
   "cell_type": "markdown",
   "metadata": {},
   "source": [
    "### TODO: implement Prioirity based task scheduling\n",
    "The goal is to:\n",
    " - Execute the tasks in execution order\n",
    " - Minimize Finish time\n",
    " - Ignore Max resources for now."
   ]
  },
  {
   "cell_type": "code",
   "execution_count": null,
   "metadata": {},
   "outputs": [],
   "source": []
  }
 ],
 "metadata": {
  "kernelspec": {
   "display_name": "Python 3 (ipykernel)",
   "language": "python",
   "name": "python3"
  },
  "language_info": {
   "codemirror_mode": {
    "name": "ipython",
    "version": 3
   },
   "file_extension": ".py",
   "mimetype": "text/x-python",
   "name": "python",
   "nbconvert_exporter": "python",
   "pygments_lexer": "ipython3",
   "version": "3.10.13"
  }
 },
 "nbformat": 4,
 "nbformat_minor": 4
}
